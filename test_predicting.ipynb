{
 "cells": [
  {
   "cell_type": "code",
   "execution_count": 1,
   "id": "45104c11-e80f-4130-94d4-762d59ac64d7",
   "metadata": {},
   "outputs": [],
   "source": [
    "from predict import ModelPredicting"
   ]
  },
  {
   "cell_type": "code",
   "execution_count": null,
   "id": "0783a648-3019-4beb-a0e1-4ae4c87b8035",
   "metadata": {},
   "outputs": [],
   "source": []
  }
 ],
 "metadata": {
  "kernelspec": {
   "display_name": "Python 3 (ipykernel)",
   "language": "python",
   "name": "python3"
  },
  "language_info": {
   "codemirror_mode": {
    "name": "ipython",
    "version": 3
   },
   "file_extension": ".py",
   "mimetype": "text/x-python",
   "name": "python",
   "nbconvert_exporter": "python",
   "pygments_lexer": "ipython3",
   "version": "3.8.10"
  }
 },
 "nbformat": 4,
 "nbformat_minor": 5
}
